- 최소, 최대

```python
N = int(input())
nums = list(map(int, input().split()))

print(min(nums), max(nums))
```

- 사칙연산

```python
### 사칙연산
A, B = map(int, input().split())

print(A+B)
print(A-B)
print(A*B)
print(A//B)
print(A%B)
```

- X보다 작은 수

```python
N, X = map(int, input().split())
A = input().split()

#print(A)
result = [c for c in A if int(c) < X]
print(' '.join(result))
```

- A+B-3

```python
T = int(input())
result = []
for i in range(T):
    A, B = map(int, input().split())
    result.append(A + B)

for num in result:
    print(num)
```

- A+B-4 : try & except 기반

```python
while 1:
    try:
        A, B = map(int, input().split())
        print(A+B)
    except:
        break
```

- A+B-5 : try & except 기반 + try에 if 조건넣어 해결

```python
while 1:
    try:
        A, B = map(int, input().split())
        if A and B != 0:
            print(A+B)
        else:
            break
    except:
        break
```

- A X B

```python
## A X B
A, B = map(int, input().split())
print(A*B)
```

- 아스키코드 : ord() 함수 생각!

```python
## 아스키코드 출력
test = input()

print(ord(test))
```